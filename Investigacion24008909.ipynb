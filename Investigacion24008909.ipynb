{
 "cells": [
  {
   "cell_type": "markdown",
   "id": "8c3a3a3a-a405-474a-9f33-850264bf891b",
   "metadata": {},
   "source": [
    "## ¿Que es git ?\n",
    "Git es un sistema de control de versiones distribuido que te permite registrar los cambios que haces en tus archivos y volver a versiones anteriores si algo sale mal\n",
    "\n"
   ]
  },
  {
   "cell_type": "markdown",
   "id": "862f7b2d-3b59-4067-a364-3caa4221eaf7",
   "metadata": {},
   "source": [
    "## Para qué proyectos sirve Git\n",
    "Con Git se obtiene una mayor eficiencia usando archivos de texto plano, ya que con archivos binarios no puede guardar solo los cambios, \n",
    "sino que debe volver a grabar el archivo completo ante cada modificación, por mínima que sea, lo que hace que incremente\n",
    "demasiado el tamaño del repositorio"
   ]
  },
  {
   "cell_type": "markdown",
   "id": "ec9f7b3b-ffba-48c7-b37b-12a4a3c68a54",
   "metadata": {},
   "source": [
    "## ¿Qué es un sistema de control de versiones?\n",
    "El SCV o VCS (por sus siglas en inglés) es un sistema que registra los cambios realizados sobre un archivo o conjunto de archivos a lo \n",
    "largo del tiempo, de modo que puedas llevar el historial del ciclo de vida de un proyecto, comparar cambios a lo largo del tiempo, ver quién los realizó o revertir el\n",
    "proyecto entero a un estado anterior."
   ]
  },
  {
   "cell_type": "markdown",
   "id": "a5d3e762-47ed-454c-8272-770fd0124590",
   "metadata": {},
   "source": [
    "##  ¿Qué es Github ?\n",
    "GitHub es un servicio basado en la nube que aloja un sistema de control de versiones (VCS) llamado Git. Éste permite a los desarrolladores colaborar y realizar cambios en proyectos compartidos, a la vez que mantienen un seguimiento detallado de su progreso."
   ]
  },
  {
   "cell_type": "markdown",
   "id": "71331389-4837-46df-bf8c-d48f98281ff7",
   "metadata": {},
   "source": [
    "## Características de Github\n",
    "GitHub permite alojar proyectos en repositorios de forma gratuita y pública, pero tiene una forma de pago para privados.\n",
    "\n",
    "Puedes compartir fácilmente tus proyectos.\n",
    "\n",
    "Permite colaborar para mejorar los proyectos de otros y a otros mejorar o aportar a los tuyos.\n",
    "\n",
    "Ayuda a reducir significativamente los errores humanos, a tener un mejor mantenimiento de distintos entornos y a detectar fallos de una forma más rápida y eficiente.\n",
    "\n",
    "Es la opción perfecta para poder trabajar en equipo en un mismo proyecto.\n",
    "\n",
    "Ofrece todas las ventajas del sistema de control de versiones Git, pero también tiene otras herramientas que ayudan a tener un mejor control de los proyectos."
   ]
  },
  {
   "cell_type": "markdown",
   "id": "8a065621-304a-4dfa-868b-8c8f15634f07",
   "metadata": {},
   "source": [
    "## ¿En qué se diferencia de Github?\n",
    "Github es una plataforma de desarrollo colaborativo para alojar proyectos utilizando el sistema de control de versiones Git.\n",
    "Se emplea principalmente para la creación de código fuente de programas de computadora.\n",
    "\n",
    "Puede considerarse a Github como la red social de código para los programadores y en muchos casos es visto como un curriculum vitae,\n",
    "pues aquí se guarda el portafolio de proyectos de programación."
   ]
  },
  {
   "cell_type": "code",
   "execution_count": null,
   "id": "5ab62afb-2907-4f08-914d-c8e9366fb554",
   "metadata": {},
   "outputs": [],
   "source": [
    "Algunos de los comandos que se utlizaron para subir la investigacion:\n",
    "git init\n",
    "git status\n",
    "git add .\n",
    "git commit -m \"Comentario del cambio\"\n",
    "git git config --global user.email correo\n",
    "git config --global user.name usuario\n",
    "git commit -m \"Comentario para subir al repositorio\"\n",
    "git branch -M main\n",
    "git remonte add se copia el link de nuestro repositori\n",
    "git push -u origin main"
   ]
  },
  {
   "cell_type": "markdown",
   "id": "a2021fb4-e0ff-42eb-8452-1b7b54a4975a",
   "metadata": {},
   "source": [
    "### Magic Cells\n",
    "\n"
   ]
  },
  {
   "cell_type": "markdown",
   "id": "4787aeb7-929f-449c-87f3-8f6e3c46667c",
   "metadata": {},
   "source": [
    "Son comandos especiales que permiten al usuario modificar explícitamente el comportamiento de una celda \n",
    "de código. Las funciones de Cell Magic tienen el prefijo '%%' seguido del nombre del comando. Las funciones de Cell Magic sirven para diversas tareas \n",
    "y personalizaciones."
   ]
  },
  {
   "cell_type": "markdown",
   "id": "2537ef74-900b-4ad7-b843-b6c56264aa1e",
   "metadata": {
    "tags": []
   },
   "source": [
    "### Ventajas de las funciones Magic Cells\n",
    "* Comportamiento especializado y características dentro de Jupyter Notebook\n",
    "* Personalización\n",
    "* Proporciona documentación rica al representar contenido en varios formatos como Markdown y HTML.\n",
    "* Simplifique tareas comunes como cronometrar la ejecución de código, creación de perfiles, visualización de datos, etc."
   ]
  },
  {
   "cell_type": "code",
   "execution_count": null,
   "id": "4f44f854-443b-41ee-a6e4-bc0d7b28b87c",
   "metadata": {},
   "outputs": [],
   "source": [
    "• Qué es git\n",
    "• Qué es github\n",
    "• Markdown y sus comandos\n",
    "* MagicCells\n",
    "Información de entrega\n",
    "• Link de github\n",
    "• Verificar que el link sea público"
   ]
  },
  {
   "cell_type": "markdown",
   "id": "c0d5f2cc-3e1e-4d72-bef7-102f92d27e8d",
   "metadata": {
    "tags": []
   },
   "source": [
    "## ¿Qué es Markdown?\n",
    "\n",
    "Markdown es un lenguaje de marcado que facilita la aplicación de formato a un texto empleando una serie de caracteres de una forma especial.\n",
    "En principio, fue pensado para elaborar textos cuyo destino iba a ser la web con más rapidez y sencillez que si estuviésemos empleando \n",
    "directamente HTML. Y si bien ese suele ser el mejor uso que podemos darle, también podemos emplearlo para cualquier tipo de texto,\n",
    "independientemente de cual vaya a ser su destino."
   ]
  },
  {
   "cell_type": "markdown",
   "id": "9b5833d9-b40f-4ac0-b50f-8c69e24c7ae3",
   "metadata": {
    "tags": []
   },
   "source": [
    "\"Quien fue a Santiago,  \n",
    "perdió su clase de redes\""
   ]
  },
  {
   "cell_type": "markdown",
   "id": "34df8c0b-44e2-4e7c-9a9c-bd2618544f93",
   "metadata": {
    "tags": []
   },
   "source": [
    "## Título\n",
    "Para crear un título en Markdown, se utiliza de forma predeterminada una almohadilla, que se pone delante del texto,\n",
    "separada por un espacio en blanco. Para crear subtítulos y, por lo tanto, en letra más pequeña, se insertan más almohadillas.\n",
    "De esta manera, se pueden crear hasta seis niveles de títulos, como en HTML"
   ]
  },
  {
   "cell_type": "markdown",
   "id": "4d85b913-5269-4821-b4ef-837f223c81d9",
   "metadata": {},
   "source": [
    "# Título 1\n",
    "## Título 2\n",
    "### Título 3\n",
    "#### Título 4\n",
    "##### Título 5\n",
    "###### Título 6 "
   ]
  },
  {
   "cell_type": "markdown",
   "id": "19e3c8b3-48e8-4067-a53c-bd9902e3bce5",
   "metadata": {},
   "source": [
    "# Encabezado 1\n",
    "## Encabezado 2\n",
    "### Encabezado 3\n",
    "#### Encabezado 4\n",
    "##### Encabezado 5\n",
    "###### Encabezado 6"
   ]
  },
  {
   "cell_type": "code",
   "execution_count": null,
   "id": "3b74c767-1ed1-44cf-b56e-0ab8e92f9e02",
   "metadata": {},
   "outputs": [],
   "source": [
    "También existe una sintaxis alternativa para los encabezados que consiste en agregar un número de caracteres = equivalente al número de caracteres\n",
    "del encabezado de la línea superior. Agregando caracteres = crearás encabezados de nivel 1. Para crear encabezados de nivel 2 tendrás que agregar \n",
    "caracteres - en su lugar"
   ]
  },
  {
   "cell_type": "code",
   "execution_count": null,
   "id": "5b963284-ee7f-4107-b2e9-cae81351ee92",
   "metadata": {},
   "outputs": [],
   "source": [
    "Encabezado nivel 1\n",
    "=================="
   ]
  },
  {
   "cell_type": "code",
   "execution_count": null,
   "id": "c6916d7c-f8f5-4f04-960c-12764642ce05",
   "metadata": {},
   "outputs": [],
   "source": [
    "Encabezado nivel 2\n",
    "------------------"
   ]
  },
  {
   "cell_type": "markdown",
   "id": "2c02b6cd-c840-4d1c-b4d4-b51cfa3f1d58",
   "metadata": {
    "tags": []
   },
   "source": [
    "Encabezado nivel 2\n",
    "------------------"
   ]
  },
  {
   "cell_type": "markdown",
   "id": "4775aa2b-b982-429f-8957-277e6ab88975",
   "metadata": {
    "tags": []
   },
   "source": [
    "\n",
    "### Saltos de línea"
   ]
  },
  {
   "cell_type": "markdown",
   "id": "3aebe691-a11b-4f62-9abd-14e95c9906f6",
   "metadata": {},
   "source": [
    "Lo más habitual es agegar párrafos en lugar de saltos de línea, de modo que el texto se adapte al contenedor en el que está. Sin embargo, en ocasiones es preferible romper el estilo de escritura por defecto y comenzar una nueva línea.\n",
    "\n",
    "Para agregar un salto de línea con markdown basta con que dejes dos o más espacios en blanco al final de la línea y luego pulses INTRO:"
   ]
  },
  {
   "cell_type": "markdown",
   "id": "c65236b9-4302-439b-91b8-4e745716d394",
   "metadata": {
    "tags": []
   },
   "source": [
    "Esta es una línea.  <br>\n",
    "Y esta es ota línea"
   ]
  },
  {
   "cell_type": "markdown",
   "id": "1c132d0e-1f5b-4ae4-ac54-12f2e19dab6c",
   "metadata": {
    "tags": []
   },
   "source": [
    "Esta es una línea.  <br>\n",
    "Y esta es ota línea"
   ]
  },
  {
   "cell_type": "markdown",
   "id": "39ed6a68-4d51-4c7a-a33c-9cc060aadf18",
   "metadata": {},
   "source": [
    "### Líneas horizontales"
   ]
  },
  {
   "cell_type": "code",
   "execution_count": null,
   "id": "d6edc208-4f77-4ef7-b68c-2c35b3ff9eef",
   "metadata": {},
   "outputs": [],
   "source": [
    "Con Markdown también podrás agregar líneas horizontales, que resultan útiles para separar el contenido o las secciones de un documento.\n",
    "\n",
    "Para crear una línea horizontal basta con que agregues tres o más asteriscos seguidos, tres o más guiones seguidos o tres o más guiones bajos seguidos:"
   ]
  },
  {
   "cell_type": "code",
   "execution_count": null,
   "id": "0a894add-220c-43a8-b0e1-ceb69da86537",
   "metadata": {},
   "outputs": [],
   "source": [
    "***\n",
    "---\n",
    "___"
   ]
  },
  {
   "cell_type": "markdown",
   "id": "4f7d4add-0082-44e4-8195-f26730f91726",
   "metadata": {
    "tags": []
   },
   "source": [
    "***\n",
    "---\n",
    "___"
   ]
  },
  {
   "cell_type": "markdown",
   "id": "4045aff6-cd72-4ace-867e-c487a9b0bc7b",
   "metadata": {},
   "source": [
    "### Formato de texto"
   ]
  },
  {
   "cell_type": "markdown",
   "id": "7cd745a0-1e85-4c8a-b55d-2d11c02b0013",
   "metadata": {},
   "source": [
    "A continuación vamos a ver como formatear el texto en negrita, en cursiva o aplicando ambos formatos a la vez\n",
    "\n",
    "#### Negrita\n",
    "Para agregar texto resaltado en negrita tendrás que usar dos asteriscos ** o dos guiones bajos __ al principio y al final de lo oración que quieres resaltar. En caso de que quieras resaltar un texto que está en medio de una palabra, tedrás que agregar dos asteriscos ** o dos guiones bajos __, sin espacios, antes y después de las letras deseadas:"
   ]
  },
  {
   "cell_type": "code",
   "execution_count": null,
   "id": "73b15f4a-56d1-441a-b17c-fda5545a88b3",
   "metadata": {},
   "outputs": [],
   "source": [
    "Esto es un **texto en negrita**.\n",
    "Esto es un texto parcialmente en ne**gri**ta.\n",
    "\n",
    "Esto es un __texto en negrita__.\n",
    "Esto es un texto parcialmente en ne__gri__ta."
   ]
  },
  {
   "cell_type": "markdown",
   "id": "839d4fbb-f96f-4598-9d7f-87819096082a",
   "metadata": {},
   "source": [
    "Esto es un **texto en negrita**.\n",
    "Esto es un texto parcialmente en ne**gri**ta.\n",
    "\n",
    "Esto es un __texto en negrita__.\n",
    "Esto es un texto parcialmente en ne__gri__ta."
   ]
  },
  {
   "cell_type": "markdown",
   "id": "ee9e3f3e-e434-491d-bf01-5c6e33960586",
   "metadata": {},
   "source": [
    "### Negrita cursiva\n",
    "Para que en texto esté resaltado tanto en negrita como en cursiva al mismo tiempo debes agregar\n",
    "tres asteriscos *** o tres guiones bajos ___ antes y después de una palabra o de una frase. En caso de que el texto que quieres \n",
    "que esté en negrita y en cursiva esté en mitad de una palabra, deberás agregar también tres asteriscos *** o tres guiones bajos ___ sin espacios a ambos lados:"
   ]
  },
  {
   "cell_type": "code",
   "execution_count": null,
   "id": "16412906-df43-4fd7-9fcc-0017f88d3f3c",
   "metadata": {},
   "outputs": [],
   "source": [
    "Esto es un ***texto en negrita y cursiva***.\n",
    "Esto es un ___texto en negrita y cursiva___.\n",
    "Esto es un texto parcialmente en ne***grita y cursi***va.\n",
    "Esto es un texto parcialmente en ne___grita y cursi___va."
   ]
  },
  {
   "cell_type": "markdown",
   "id": "45037549-6ded-4c92-820e-719fddb7e084",
   "metadata": {},
   "source": [
    "Esto es un ***texto en negrita y cursiva***.\n",
    "Esto es un ___texto en negrita y cursiva___.\n",
    "Esto es un texto parcialmente en ne***grita y cursi***va.\n",
    "Esto es un texto parcialmente en ne___grita y cursi___va."
   ]
  },
  {
   "cell_type": "code",
   "execution_count": null,
   "id": "eb169c5d-2daa-4d27-ac0d-503309cb8b8c",
   "metadata": {},
   "outputs": [],
   "source": [
    "También es posible combinar dos guiones bajos y un asterisco __* de apertura junto con un asterisco y dos guiones bajos *__ de cierre. Del mismo modo, también puedes usar dos asteriscos y un guión bajo **_ como apertura junto con un aguión bajo y dos asteriscos de ciere _**:"
   ]
  },
  {
   "cell_type": "code",
   "execution_count": null,
   "id": "c10b4cf6-714a-41df-a73f-53f3735391fc",
   "metadata": {},
   "outputs": [],
   "source": [
    "Esto es un __*texto en negrita y cursiva*__.\n",
    "Esto es un **_texto en negrita y cursiva_**.\n",
    "Esto es un texto parcialmente en ne__*grita y cursi*__va.\n",
    "Esto es un texto parcialmente en ne**_grita y cursi_**va.\n"
   ]
  },
  {
   "cell_type": "markdown",
   "id": "e2d6bfd7-ab6d-4027-9e2d-e6b487505a84",
   "metadata": {},
   "source": [
    "Esto es un __*texto en negrita y cursiva*__.\n",
    "Esto es un **_texto en negrita y cursiva_**.\n",
    "Esto es un texto parcialmente en ne__*grita y cursi*__va.\n",
    "Esto es un texto parcialmente en ne**_grita y cursi_**va.\n"
   ]
  },
  {
   "cell_type": "markdown",
   "id": "430406f7-2718-46f0-86b7-70d77ef2646e",
   "metadata": {
    "tags": []
   },
   "source": [
    "### Listas\n",
    "Para crear una lista no ordenada en Markdown, puedes utilizar el signo de más, un guion o un asterisco. \n",
    "Con las tres opciones obtendrás el mismo resultado."
   ]
  },
  {
   "cell_type": "code",
   "execution_count": null,
   "id": "5f93a996-958a-4bd6-8772-5e9513c1a9db",
   "metadata": {
    "tags": []
   },
   "outputs": [],
   "source": [
    "- Elemento de la lista 1\n",
    "- Elemento de la lista 2\n",
    "- Elemento de la lista 3\n"
   ]
  },
  {
   "cell_type": "markdown",
   "id": "1d237d30-b0c2-45da-95c1-c22bb57afaef",
   "metadata": {
    "tags": []
   },
   "source": [
    "- Elemento de la lista 1\n",
    "- Elemento de la lista 2\n",
    "- Elemento de la lista 3\n"
   ]
  },
  {
   "cell_type": "markdown",
   "id": "e4277e85-ed4e-40a3-9c9f-7f5de9c2e6a4",
   "metadata": {
    "tags": []
   },
   "source": [
    "### Comillas\n",
    "Para marcar un fragmento de texto como una cita en Markdown, puedes crear las llamadas citas en bloque, utilizando el \n",
    "signo de mayor que (>). Tienes dos opciones: marcar cada línea individual con este carácter o insertar únicamente uno al\n",
    "principio del párrafo de la cita sangrada y marcar el fin de la cita introduciendo una línea en blanco. La cita en bloque, a su vez,\n",
    "puede ser formateada con otros elementos."
   ]
  },
  {
   "cell_type": "markdown",
   "id": "e4dffdab-80f1-4b99-86c9-4790aad92ae8",
   "metadata": {},
   "source": [
    ">Este es un **fragmento con comillas**.\n",
    ">El fragmento continúa aquí.\n",
    "Esta línea ya no está sangrada."
   ]
  },
  {
   "cell_type": "markdown",
   "id": "aa20ef94-3066-4d78-99b0-a4d1313b8b7f",
   "metadata": {
    "tags": []
   },
   "source": [
    "### Tablas\n",
    "Markdown permite dibujar tablas mediante plecas (|). Cada celda está separada por uno de estos caracteres. Para crear encabezado\n",
    "s que se distingan visualmente del resto del contenido, se subrayan las celdas correspondientes con guiones."
   ]
  },
  {
   "cell_type": "markdown",
   "id": "e3e617ef-1ec2-4214-a199-7397bc8ae8e2",
   "metadata": {},
   "source": [
    "|Columna 1|Columna 2|\n",
    "|--------|--------|\n",
    "|    A    |    B    |\n",
    "|    C    |    D    |"
   ]
  },
  {
   "cell_type": "code",
   "execution_count": null,
   "id": "89e351db-0a8e-4aa5-bee0-f92a0996b2b0",
   "metadata": {
    "tags": []
   },
   "outputs": [],
   "source": [
    "Listas con viñetas\n",
    "* Viñeta uno (no olvide el espacio después del asterisco)\n",
    "* Viñeta dos\n",
    "\n",
    "Debe escribir un salto de línea antes y después de la lista."
   ]
  },
  {
   "cell_type": "markdown",
   "id": "ce09dcf0-e960-4086-bd0a-4645aefd455d",
   "metadata": {
    "tags": []
   },
   "source": [
    "* Viñeta uno (no olvide el espacio después del asterisco)\n",
    "* Viñeta dos"
   ]
  },
  {
   "cell_type": "markdown",
   "id": "ead9335f-daf2-4146-8e3b-588394c72627",
   "metadata": {},
   "source": [
    "### Bloques de código\n",
    "```\n",
    "Este es un ejemplo de un bloque de código.\n",
    "\n",
    "```\n",
    "\n",
    "Si se crea una línea en blanco y luego se sangra la línea o las líneas siguientes con cuatro espacios, se crea también un bloque de código.\n",
    "\n",
    "Debe escribir un salto de línea antes y después del bloque de código."
   ]
  },
  {
   "cell_type": "markdown",
   "id": "709e3aea-365c-43b7-83ec-8e6e552f5897",
   "metadata": {
    "tags": []
   },
   "source": [
    "## Salto de linea"
   ]
  },
  {
   "cell_type": "code",
   "execution_count": null,
   "id": "ee9adfb2-9b40-40b9-a508-d503fc1aba8a",
   "metadata": {},
   "outputs": [],
   "source": [
    "\n",
    "Línea 1\n",
    "\n",
    "\n",
    "&nbsp;\n",
    "\n",
    "Línea 2\n",
    "\n",
    "&nbsp;\n",
    "\n",
    "Debe insertar dos saltos de línea antes de cada \n",
    "&nbsp;."
   ]
  },
  {
   "cell_type": "markdown",
   "id": "59159ea4-8cee-4f60-ade0-ccc0f3bfdd9f",
   "metadata": {
    "tags": []
   },
   "source": [
    "\n",
    "Línea 1\n",
    "\n",
    "\n",
    "&nbsp;\n",
    "\n",
    "Línea 2\n",
    "\n",
    "&nbsp;\n",
    "\n",
    "Debe insertar dos saltos de línea antes de cada \n",
    "&nbsp;."
   ]
  },
  {
   "cell_type": "markdown",
   "id": "afcbe394-8848-464e-bacb-158781d65709",
   "metadata": {},
   "source": [
    "### Citas en bloque"
   ]
  },
  {
   "cell_type": "code",
   "execution_count": null,
   "id": "4b171ae3-f532-42ce-b111-45c2054ef0b8",
   "metadata": {},
   "outputs": [],
   "source": [
    "Las citas en bloque se pueden anidar (es decir, una cita en bloque en una cita en bloque) agregando niveles adicionales de >:"
   ]
  },
  {
   "cell_type": "code",
   "execution_count": null,
   "id": "3dd90cbf-0b66-467f-8db1-c3a2bb9e8cfb",
   "metadata": {},
   "outputs": [],
   "source": [
    ">  Este  es  el  primer  nivel  de  cotización . \n",
    "> \n",
    ">  >  Esta  es  una  cita en bloque anidada . \n",
    ">> \n",
    "Regresar al primer nivel ._  _ _    "
   ]
  },
  {
   "cell_type": "markdown",
   "id": "b7f49ee6-987b-4c71-a560-ecdc4ab7cc37",
   "metadata": {
    "tags": []
   },
   "source": [
    ">  Este  es  el  primer  nivel  de  cotización . \n",
    "> \n",
    ">  >  Esta  es  una  cita en bloque anidada . \n",
    ">> \n",
    "Regresar al primer nivel ._  _ _    "
   ]
  },
  {
   "cell_type": "markdown",
   "id": "a8996c5e-621b-475f-a548-d97b53556dfc",
   "metadata": {},
   "source": [
    "### Liza"
   ]
  },
  {
   "cell_type": "code",
   "execution_count": null,
   "id": "ce10495b-36ba-44ef-9350-3fda64fcb931",
   "metadata": {},
   "outputs": [],
   "source": [
    "Markdown admite listas ordenadas (numeradas) y no ordenadas (con viñetas).\n",
    "\n",
    "Las listas desordenadas utilizan asteriscos, más y guiones - de manera intercambiable - como marcadores de lista:"
   ]
  },
  {
   "cell_type": "markdown",
   "id": "49418b92-17ec-46b7-915a-71ad696f31e6",
   "metadata": {},
   "source": [
    "*    Rojo \n",
    "verde    azul _ \n",
    "_   "
   ]
  },
  {
   "cell_type": "markdown",
   "id": "26fa60f3-149c-4757-afcb-ead5278b127d",
   "metadata": {},
   "source": [
    "### Código\n",
    "Para marcar un área de texto como código, Markdown utiliza el llamado acento grave, que no debe confundirse con la comilla simple.\n",
    "Se pone un acento al principio y otro al final del área de texto correspondiente para delimitarla. De esta manera, el código fuente o los comandos de software se \n",
    "pueden insertar directamente en el texto."
   ]
  },
  {
   "cell_type": "code",
   "execution_count": null,
   "id": "686fb6d9-6fba-4e10-b5e0-d8192b75ced5",
   "metadata": {},
   "outputs": [],
   "source": [
    "Esto es `código`."
   ]
  },
  {
   "cell_type": "markdown",
   "id": "6ee41060-df8b-4c2e-9b79-d090a8984f15",
   "metadata": {},
   "source": [
    "Esto es `código`."
   ]
  },
  {
   "cell_type": "markdown",
   "id": "13d00640-3f35-43cb-92e0-843ff204cb96",
   "metadata": {},
   "source": [
    "### Enlaces\n",
    "Markdown admite dos estilos de enlaces: en línea y de referencia.\n",
    "En ambos estilos, el texto del enlace está delimitado por [corchetes].\n",
    "Para crear un enlace en línea, use un conjunto de paréntesis regulares inmediatamente después del corchete de cierre del texto del enlace. Dentro de los paréntesis, coloque la URL donde desea que apunte el enlace, junto con un título opcional para el enlace, entre comillas. Por ejemplo:"
   ]
  },
  {
   "cell_type": "code",
   "execution_count": null,
   "id": "c7dc538a-f5a2-420f-8a19-8bce4f588a19",
   "metadata": {},
   "outputs": [],
   "source": [
    "Este  es  [ un  ejemplo ] ( http : //example.com/ \"Título\") enlace en línea.\n",
    "\n",
    "[ Este  enlace ]( http : //example.net/) no tiene atributo de título."
   ]
  },
  {
   "cell_type": "markdown",
   "id": "9ddcfbe9-3041-4821-8e40-2306a39a0bbb",
   "metadata": {},
   "source": [
    "Este  es  [ un  ejemplo ] ( http : //https:www.youtube.com/ \"Título\") enlace en línea.\n",
    "\n",
    "[ Este  enlace ]( http : //example.net/) no tiene atributo de título."
   ]
  },
  {
   "cell_type": "markdown",
   "id": "24bd26f8-f477-4e0d-aa9b-72258118e839",
   "metadata": {},
   "source": [
    "### Links Automaticos\n",
    "Markdown admite un estilo de acceso directo para crear enlaces \"automáticos\" para URL y direcciones de correo electrónico: simplemente rodee la URL o la dirección de correo electrónico con corchetes angulares. Lo que esto significa es que si desea mostrar el texto real de una URL o dirección de correo electrónico, y también hacer que sea un enlace en el que se pueda hacer clic, puede hacer esto:"
   ]
  },
  {
   "cell_type": "code",
   "execution_count": null,
   "id": "d69bf433-33e1-45af-965e-6461743ef382",
   "metadata": {},
   "outputs": [],
   "source": [
    "< http : // ejemplo . es />"
   ]
  },
  {
   "cell_type": "markdown",
   "id": "d17fc5f1-06c1-4536-a8f7-2ee610acc19c",
   "metadata": {
    "tags": []
   },
   "source": [
    " <a href= \"https://www.youtube.com/\" > http://Youtube.com/ </a>"
   ]
  },
  {
   "cell_type": "code",
   "execution_count": null,
   "id": "8953d25f-1d96-4280-9955-ff31b96c5464",
   "metadata": {},
   "outputs": [],
   "source": []
  }
 ],
 "metadata": {
  "kernelspec": {
   "display_name": "Python 3 (ipykernel)",
   "language": "python",
   "name": "python3"
  },
  "language_info": {
   "codemirror_mode": {
    "name": "ipython",
    "version": 3
   },
   "file_extension": ".py",
   "mimetype": "text/x-python",
   "name": "python",
   "nbconvert_exporter": "python",
   "pygments_lexer": "ipython3",
   "version": "3.11.5"
  }
 },
 "nbformat": 4,
 "nbformat_minor": 5
}
